{
 "cells": [
  {
   "cell_type": "code",
   "execution_count": 30,
   "id": "fd3d0976-bb4a-487d-bed4-b97913db363c",
   "metadata": {},
   "outputs": [
    {
     "name": "stderr",
     "output_type": "stream",
     "text": [
      "C:\\Users\\Yusuf Solomon\\AppData\\Local\\Temp\\ipykernel_15172\\1538488473.py:23: MarkupResemblesLocatorWarning: The input looks more like a filename than markup. You may want to open this file and pass the filehandle into Beautiful Soup.\n",
      "  soup = BeautifulSoup(sentence) # Remove html tags with beautiful soup\n"
     ]
    },
    {
     "name": "stdout",
     "output_type": "stream",
     "text": [
      "['there', 'good', 'more', 'very', 'when', 'she', 'even', 'up', 'no', 'would', 'my', 'which', 'only', 'time', 'really', 'story', 'their', 'were', 'had', 'see']\n"
     ]
    }
   ],
   "source": [
    "## Natural Language Processing Introduction\n",
    "# Preparing text data training\n",
    "import tensorflow as tf\n",
    "import tensorflow_datasets as tfds\n",
    "from bs4 import BeautifulSoup ## for removing html tags\n",
    "from tensorflow.keras.preprocessing.text import Tokenizer ## For tokenization\n",
    "import string\n",
    "import csv\n",
    "## NLP workflow\n",
    "# Import Data\n",
    "# Remove punctuations\n",
    "# Remove stop words\n",
    "# Split into training and test sets\n",
    "# Train tokenizer on the train data, Tokenization is encoding the words into numbers\n",
    "# Pad as required , This involves truncating or enlongating sentences so that all the data is the same length (so they can all pass through the NN the same)\n",
    "# Reading from tensorflow datasets\n",
    "stopwords = ['a','the', 'and', 'of', 'to', 'is', 'in', 'it', 'this', 'i', 'that', 'was', 'as', 'with', 'for', 'movie', 'but', 'film', 'on', 'not', 'are', 'you', 'his', 'have', 'be', 'he', 'one', 'its', 'at', 'all', 'by', 'an', 'they', 'who', 'from', 'like', 'so', 'her', 'or', 'just', 'about', 'has', 'out', 'if', 'some', 'what']\n",
    "table = str.maketrans('', '', string.punctuation)\n",
    "imdb_sentences = []\n",
    "train_data = tfds.as_numpy(tfds.load('imdb_reviews', split=\"train\"))\n",
    "for item in train_data:\n",
    "    sentence = str(item['text'].decode('UTF-8').lower()) # Decode text\n",
    "    soup = BeautifulSoup(sentence) # Remove html tags with beautiful soup\n",
    "    sentence = soup.get_text()\n",
    "    words = sentence.split() # Split sentences into words\n",
    "    filtered_sentence = \"\"\n",
    "    for word in words:\n",
    "        word = word.translate(table) # Remove Punctuations\n",
    "        if word not in stopwords:\n",
    "            filtered_sentence = filtered_sentence + word + \" \"\n",
    "    imdb_sentences.append(filtered_sentence)\n",
    "tokenizer = Tokenizer(num_words=25000) # Define tokenizer\n",
    "tokenizer.fit_on_texts(imdb_sentences)\n",
    "sequences = tokenizer.texts_to_sequences(imdb_sentences)\n",
    "print(list(tokenizer.word_index)[:20])   "
   ]
  },
  {
   "cell_type": "code",
   "execution_count": 21,
   "id": "0aba83b5-fee5-4ee8-ae84-51d6c336aba3",
   "metadata": {},
   "outputs": [
    {
     "name": "stdout",
     "output_type": "stream",
     "text": [
      "['the', 'and', 'of', 'to', 'is', 'in', 'it', 'this', 'i', 'that', 'was', 'as', 'with', 'for', 'movie', 'but', 'film', 'on', 'not', 'are', 'you', 'his', 'have', 'be', 'he', 'one', 'its', 'at', 'all', 'by', 'an', 'they', 'who', 'from', 'like', 'so', 'her', 'or', 'just', 'about', 'has', 'out', 'if', 'some', 'what']\n"
     ]
    }
   ],
   "source": [
    "# First iteration to find stopwords\n",
    "print(list(tokenizer.word_index)[:45])"
   ]
  },
  {
   "cell_type": "code",
   "execution_count": 48,
   "id": "b2097e26-1c9f-430b-bbc2-1f40e2efc8a5",
   "metadata": {},
   "outputs": [
    {
     "name": "stderr",
     "output_type": "stream",
     "text": [
      "C:\\Users\\Yusuf Solomon\\AppData\\Local\\Temp\\ipykernel_15172\\2423883612.py:15: MarkupResemblesLocatorWarning: The input looks more like a filename than markup. You may want to open this file and pass the filehandle into Beautiful Soup.\n",
      "  soup = BeautifulSoup(sentence)\n"
     ]
    }
   ],
   "source": [
    "# Reading from csv file \n",
    "sentences=[]\n",
    "labels=[]\n",
    "with open('sentiment_analysis.csv', newline=\"\", encoding=\"utf-8\") as csvfile:\n",
    "     reader = csv.reader(csvfile, delimiter=\",\")\n",
    "     next(reader) # Skip header file\n",
    "     for row in reader:\n",
    "         # 0 id, 1 label, 2 tweet\n",
    "         labels.append(int(row[1]))\n",
    "         sentence = row[2].lower()\n",
    "         sentence = sentence.replace(\",\", \" , \")\n",
    "         sentence = sentence.replace(\".\", \" . \")\n",
    "         sentence = sentence.replace(\"-\", \" - \")\n",
    "         sentence = sentence.replace(\"/\", \" / \")\n",
    "         soup = BeautifulSoup(sentence)\n",
    "         sentence = soup.get_text()\n",
    "         words = sentence.split()\n",
    "         filtered_sentence = \"\"\n",
    "         for word in words:\n",
    "             word = word.translate(table)\n",
    "             if word not in stopwords:\n",
    "                 filtered_sentence = filtered_sentence + word + \" \"\n",
    "         sentences.append(filtered_sentence)"
   ]
  },
  {
   "cell_type": "code",
   "execution_count": 50,
   "id": "ab0590db-de17-46da-ad34-1b6cbd788156",
   "metadata": {},
   "outputs": [],
   "source": [
    "training_size = int(len(sentences) * 0.8)\n",
    "\n",
    "training_sentences = sentences[0:training_size]\n",
    "testing_sentences = sentences[training_size:]\n",
    "training_labels = labels[0:training_size]\n",
    "testing_labels = labels[training_size:]"
   ]
  },
  {
   "cell_type": "code",
   "execution_count": 56,
   "id": "d3f048af-fc96-47d8-942b-08e7155cf6f9",
   "metadata": {},
   "outputs": [
    {
     "name": "stdout",
     "output_type": "stream",
     "text": [
      "20455\n",
      "[('iphone', 2988), ('com', 2734), ('http', 2729), ('apple', 2359), ('p', 2143), ('my', 1851), ('instagram', 1756), ('samsung', 1151), ('twitter', 937), ('new', 919), ('me', 881), ('https', 827), ('phone', 786), ('am', 688), ('sony', 661), ('instagr', 628), ('…', 584), ('follow', 578), ('www', 514), ('ipad', 409)]\n"
     ]
    }
   ],
   "source": [
    "from collections import Counter\n",
    "\n",
    "# Flatten all words into one list\n",
    "all_words = [word for sentence in training_sentences for word in sentence.split()]\n",
    "word_counts = Counter(all_words)\n",
    "\n",
    "print(len(word_counts))   # total unique words\n",
    "print(word_counts.most_common(20))   # top 20 frequent words\n",
    "# to make sure there are no more stop words \n",
    "# the unique words count is to fit our tokenizer"
   ]
  },
  {
   "cell_type": "code",
   "execution_count": 64,
   "id": "c1ffd958-1e1f-49d4-96f6-ca29003fa483",
   "metadata": {},
   "outputs": [
    {
     "name": "stdout",
     "output_type": "stream",
     "text": [
      "['<OOV>', 'iphone', 'com', 'http', 'apple', 'p', 'my', 'instagram', 'samsung', 'twitter', 'new', 'me', 'https', 'phone', 'am', 'sony', 'instagr', '…', 'follow', 'www', 'ipad', 'pic', 'love', 'life', 'android', 'now', 'your', 'rt', 'day', 'ly']\n"
     ]
    }
   ],
   "source": [
    "from tensorflow.keras.preprocessing.sequence import pad_sequences\n",
    "\n",
    "vocab_size = 20455\n",
    "max_length = 10\n",
    "trunc_type='post'\n",
    "padding_type='post'\n",
    "oov_tok = \"<OOV>\"\n",
    "\n",
    "tokenizer = Tokenizer(num_words=vocab_size, oov_token=oov_tok) # Define tokenizer\n",
    "tokenizer.fit_on_texts(training_sentences) # Fit\n",
    "word_index = tokenizer.word_index\n",
    "\n",
    "# Tokenize and then pad sentences\n",
    "training_sequences = tokenizer.texts_to_sequences(training_sentences)\n",
    "training_padded = pad_sequences(training_sequences, maxlen=max_length, padding=padding_type, truncating=trunc_type)\n",
    "\n",
    "print(list(word_index)[:30])"
   ]
  },
  {
   "cell_type": "code",
   "execution_count": null,
   "id": "ebb886f0-114a-44a8-8ebd-d9abaa76d138",
   "metadata": {},
   "outputs": [],
   "source": []
  }
 ],
 "metadata": {
  "kernelspec": {
   "display_name": "Python [conda env:base] *",
   "language": "python",
   "name": "conda-base-py"
  },
  "language_info": {
   "codemirror_mode": {
    "name": "ipython",
    "version": 3
   },
   "file_extension": ".py",
   "mimetype": "text/x-python",
   "name": "python",
   "nbconvert_exporter": "python",
   "pygments_lexer": "ipython3",
   "version": "3.12.7"
  }
 },
 "nbformat": 4,
 "nbformat_minor": 5
}
